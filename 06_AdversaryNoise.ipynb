{
 "cells": [
  {
   "cell_type": "markdown",
   "metadata": {},
   "source": [
    "# Adversary Noise\n",
    "by Gaetano Bonofiglio, Veronica Iovinella\n",
    "\n",
    "## Introduction\n",
    "We previously created various Convolutional Neural Networks using $TensorFlow$ with various degrees of success. In this notebook we'll fina a so-called \"**adversarial example**\" for a state-of-the-art neural network (**Inception Model V3**) that will cause a mis-classification of an input image of any class. The *adversary noise* is added to a correctly classified picture and can't be perceived by a human eye, but is catastrophic for the classifier.\n",
    "\n",
    "Usually to win against an adversary example it's needed to re-train a CNN in a never-ending cycle (it's always possible to find a new adversary example for the newly trained CNN, expecially if it is open source). We will instead explore a different method for solving this issue that doesn't involve re-training the network and should be able to win even against ad-hoc noises. \n",
    "\n",
    "## Flowchart\n",
    "TODO"
   ]
  },
  {
   "cell_type": "code",
   "execution_count": 1,
   "metadata": {
    "collapsed": true
   },
   "outputs": [],
   "source": [
    "from IPython.display import Image, display"
   ]
  },
  {
   "cell_type": "markdown",
   "metadata": {},
   "source": [
    "## Imports"
   ]
  },
  {
   "cell_type": "code",
   "execution_count": 2,
   "metadata": {
    "collapsed": false
   },
   "outputs": [
    {
     "data": {
      "text/plain": [
       "'0.9.0'"
      ]
     },
     "execution_count": 2,
     "metadata": {},
     "output_type": "execute_result"
    }
   ],
   "source": [
    "%matplotlib inline\n",
    "import matplotlib.pyplot as plt\n",
    "import tensorflow as tf\n",
    "import numpy as np\n",
    "import os\n",
    "\n",
    "from util import Util\n",
    "u = Util()\n",
    "\n",
    "import inception\n",
    "\n",
    "tf.__version__"
   ]
  },
  {
   "cell_type": "code",
   "execution_count": 3,
   "metadata": {
    "collapsed": false
   },
   "outputs": [
    {
     "name": "stdout",
     "output_type": "stream",
     "text": [
      "Downloading Inception v3 Model ...\n",
      "Data has apparently already been downloaded and unpacked.\n"
     ]
    }
   ],
   "source": [
    "inception.maybe_download()"
   ]
  },
  {
   "cell_type": "code",
   "execution_count": 4,
   "metadata": {
    "collapsed": true
   },
   "outputs": [],
   "source": [
    "# Load the Inception model so it is ready for classifying images.\n",
    "model = inception.Inception()\n",
    "# Helper-function for classifying and plotting images\n",
    "def classify(image_path):\n",
    "    display(Image(image_path))\n",
    "    pred = model.classify(image_path=image_path)\n",
    "    model.print_scores(pred=pred, k=10, only_first_name=True)\n",
    "# Image path for the example picture to classify\n",
    "image_path = os.path.join(inception.data_dir, 'cropped_panda.jpg')"
   ]
  },
  {
   "cell_type": "code",
   "execution_count": 5,
   "metadata": {
    "collapsed": false
   },
   "outputs": [
    {
     "data": {
      "image/jpeg": "[encoded data removed]",
      "text/plain": [
       "<IPython.core.display.Image object>"
      ]
     },
     "metadata": {},
     "output_type": "display_data"
    },
    {
     "name": "stdout",
     "output_type": "stream",
     "text": [
      "89.23% : giant panda\n",
      " 0.86% : indri\n",
      " 0.26% : lesser panda\n",
      " 0.14% : custard apple\n",
      " 0.11% : earthstar\n",
      " 0.08% : sea urchin\n",
      " 0.05% : forklift\n",
      " 0.05% : soccer ball\n",
      " 0.05% : go-kart\n",
      " 0.05% : digital watch\n"
     ]
    }
   ],
   "source": [
    "classify(image_path)"
   ]
  },
  {
   "cell_type": "code",
   "execution_count": null,
   "metadata": {
    "collapsed": true
   },
   "outputs": [],
   "source": []
  }
 ],
 "metadata": {
  "kernelspec": {
   "display_name": "Python 3",
   "language": "python",
   "name": "python3"
  },
  "language_info": {
   "codemirror_mode": {
    "name": "ipython",
    "version": 3
   },
   "file_extension": ".py",
   "mimetype": "text/x-python",
   "name": "python",
   "nbconvert_exporter": "python",
   "pygments_lexer": "ipython3",
   "version": "3.5.2"
  }
 },
 "nbformat": 4,
 "nbformat_minor": 1
}
